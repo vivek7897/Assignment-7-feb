{
 "cells": [
  {
   "cell_type": "code",
   "execution_count": null,
   "id": "a08f4554-8897-40c0-b7ee-716dd612a8f2",
   "metadata": {},
   "outputs": [],
   "source": [
    "Q1. You are writing code for a company. The requirement of the company is that you create a python\n",
    "function that will check whether the password entered by the user is correct or not. The function should\n",
    "take the password as input and return the string “Valid Password” if the entered password follows the\n",
    "below-given password guidelines else it should return “Invalid Password”.\n",
    "Note: 1. The Password should contain at least two uppercase letters and at least two lowercase letters.\n",
    "2. The Password should contain at least a number and three special characters.\n",
    "3. The length of the password should be 10 characters long."
   ]
  },
  {
   "cell_type": "code",
   "execution_count": 3,
   "id": "4be0f897-6c7a-4bff-b1df-f9a8b80117c1",
   "metadata": {},
   "outputs": [],
   "source": [
    "# ANSWER\n",
    "import re\n",
    "\n",
    "def check_password(password):\n",
    "    # Password should be 10 characters long\n",
    "    if len(password) != 10:\n",
    "        return \"Invalid Password\"\n",
    "    \n",
    "    # Password should contain at least two uppercase letters\n",
    "    if not re.search(r'[A-Z].*[A-Z]', password):\n",
    "        return \"Invalid Password\"\n",
    "    \n",
    "    # Password should contain at least two lowercase letters\n",
    "    if not re.search(r'[a-z].*[a-z]', password):\n",
    "        return \"Invalid Password\"\n",
    "    \n",
    "    # Password should contain at least a number and three special characters\n",
    "    if not re.search(r'\\d', password) or not re.search(r'[!@#$%^&*()+\\-=[\\]{};:\\'\",.<>/?\\\\|]', password):\n",
    "        return \"Invalid Password\"\n",
    "    \n",
    "    return \"Valid Password\"\n"
   ]
  },
  {
   "cell_type": "code",
   "execution_count": null,
   "id": "5cefd950-6e49-42a3-b453-102b88793f8a",
   "metadata": {},
   "outputs": [],
   "source": [
    "Q2. Solve the below-given questions using at least one of the following:\n",
    "1. Lambda functioJ\n",
    "2. Filter functioJ\n",
    "3. Zap functioJ\n",
    "4. List ComprehensioI\n",
    "B Check if the string starts with a particular letterY\n",
    "B Check if the string is numericY\n",
    "B Sort a list of tuples having fruit names and their quantity. [(\"mango\",99),(\"orange\",80), (\"grapes\", 1000)-\n",
    "B Find the squares of numbers from 1 to 10Y\n",
    "B Find the cube root of numbers from 1 to 10Y\n",
    "B Check if a given number is evenY\n",
    "B Filter odd numbers from the given list.\n",
    "[1,2,3,4,5,6,7,8,9,10-\n",
    "B Sort a list of integers into positive and negative integers lists.\n",
    "[1,2,3,4,5,6,-1,-2,-3,-4,-5,0]"
   ]
  },
  {
   "cell_type": "code",
   "execution_count": null,
   "id": "61f777bb-8015-4164-880f-487683200275",
   "metadata": {},
   "outputs": [],
   "source": [
    "# ANSWER\n",
    "1. Check if the string starts with a particular letter:\n",
    "Using lambda function and string method startswith(), we can check if a given string starts with a particular letter."
   ]
  },
  {
   "cell_type": "code",
   "execution_count": 4,
   "id": "44d1d03d-b7f9-4196-89a5-38b29f1b35e1",
   "metadata": {},
   "outputs": [
    {
     "name": "stdout",
     "output_type": "stream",
     "text": [
      "['apple']\n"
     ]
    }
   ],
   "source": [
    "strings = ['apple', 'banana', 'cherry', 'orange']\n",
    "letter = 'a'\n",
    "filtered_strings = list(filter(lambda x: x.startswith(letter), strings))\n",
    "print(filtered_strings)\n"
   ]
  },
  {
   "cell_type": "code",
   "execution_count": null,
   "id": "bc9c5f37-d219-4189-bb2b-f4d1811716b6",
   "metadata": {},
   "outputs": [],
   "source": [
    "2.Check if the string is numeric:\n",
    "Using lambda function and string method isnumeric(), we can check if a given string is numeric.\n"
   ]
  },
  {
   "cell_type": "code",
   "execution_count": 5,
   "id": "143c6cc9-06c1-4821-a4e3-32fb93df5ebf",
   "metadata": {},
   "outputs": [
    {
     "name": "stdout",
     "output_type": "stream",
     "text": [
      "['123', '7']\n"
     ]
    }
   ],
   "source": [
    "strings = ['123', 'abc', '45.6', '7']\n",
    "filtered_strings = list(filter(lambda x: x.isnumeric(), strings))\n",
    "print(filtered_strings)\n"
   ]
  },
  {
   "cell_type": "code",
   "execution_count": null,
   "id": "2dc376da-2f39-4c34-8863-8d28e293e2ac",
   "metadata": {},
   "outputs": [],
   "source": [
    "3. Sort a list of tuples having fruit names and their quantity:\n",
    "Using lambda function and sorted() method, we can sort a list of tuples based on the quantity."
   ]
  },
  {
   "cell_type": "code",
   "execution_count": 6,
   "id": "97ca59c8-1be2-4274-9c42-90a69fe1c381",
   "metadata": {},
   "outputs": [
    {
     "name": "stdout",
     "output_type": "stream",
     "text": [
      "[('orange', 80), ('mango', 99), ('grapes', 1000)]\n"
     ]
    }
   ],
   "source": [
    "fruits = [(\"mango\",99),(\"orange\",80),(\"grapes\",1000)]\n",
    "sorted_fruits = sorted(fruits, key=lambda x: x[1])\n",
    "print(sorted_fruits)\n"
   ]
  },
  {
   "cell_type": "code",
   "execution_count": null,
   "id": "2be060b2-481d-469f-b3f7-af4f53c2ea40",
   "metadata": {},
   "outputs": [],
   "source": [
    "4.Find the squares of numbers from 1 to 10:\n",
    "Using list comprehension, we can find the squares of numbers from 1 to 10.\n",
    "\n"
   ]
  },
  {
   "cell_type": "code",
   "execution_count": 7,
   "id": "c898676d-422e-4c18-bc0d-4832587235eb",
   "metadata": {},
   "outputs": [
    {
     "name": "stdout",
     "output_type": "stream",
     "text": [
      "[1, 4, 9, 16, 25, 36, 49, 64, 81, 100]\n"
     ]
    }
   ],
   "source": [
    "squares = [x**2 for x in range(1, 11)]\n",
    "print(squares)\n"
   ]
  },
  {
   "cell_type": "code",
   "execution_count": null,
   "id": "f8274f4f-0442-446a-bd12-ccf88d693460",
   "metadata": {},
   "outputs": [],
   "source": [
    "5.Find the cube root of numbers from 1 to 10:\n",
    "Using list comprehension and math module, we can find the cube root of numbers from 1 to 10."
   ]
  },
  {
   "cell_type": "code",
   "execution_count": 9,
   "id": "f8ce04be-2cdf-48ac-af03-b47e424e2dd3",
   "metadata": {},
   "outputs": [
    {
     "name": "stdout",
     "output_type": "stream",
     "text": [
      "[1.0, 1.2599210498948732, 1.4422495703074083, 1.5874010519681994, 1.7099759466766968, 1.8171205928321397, 1.912931182772389, 2.0, 2.080083823051904, 2.154434690031884]\n"
     ]
    }
   ],
   "source": [
    "import math\n",
    "cube_roots = [math.pow(x, 1/3) for x in range(1, 11)]\n",
    "print(cube_roots)\n"
   ]
  },
  {
   "cell_type": "code",
   "execution_count": null,
   "id": "163242a3-62b6-4544-9b0d-7a1d1ecdfbb5",
   "metadata": {},
   "outputs": [],
   "source": [
    "6.Check if a given number is even:\n",
    "Using lambda function and modulo operator, we can check if a given number is even."
   ]
  },
  {
   "cell_type": "code",
   "execution_count": 10,
   "id": "9e219583-e252-445b-b8fc-f62151a2a5e4",
   "metadata": {},
   "outputs": [
    {
     "name": "stdout",
     "output_type": "stream",
     "text": [
      "True\n"
     ]
    }
   ],
   "source": [
    "number = 6\n",
    "is_even = lambda x: x % 2 == 0\n",
    "print(is_even(number))\n"
   ]
  },
  {
   "cell_type": "code",
   "execution_count": null,
   "id": "4c26aa95-d617-4526-b716-b1650c6ef120",
   "metadata": {},
   "outputs": [],
   "source": [
    "7.Filter odd numbers from the given list:\n",
    "Using filter function and lambda function, we can filter odd numbers from the given list."
   ]
  },
  {
   "cell_type": "code",
   "execution_count": null,
   "id": "4b90833d-9a82-4593-925a-64105d6f7f60",
   "metadata": {},
   "outputs": [],
   "source": [
    "numbers = [1, 2, 3, 4, 5, 6, 7, 8, 9, 10]\n",
    "odd_numbers = list(filter(lambda x: x % 2 != 0, numbers))\n",
    "print(odd_numbers)\n"
   ]
  }
 ],
 "metadata": {
  "kernelspec": {
   "display_name": "Python 3 (ipykernel)",
   "language": "python",
   "name": "python3"
  },
  "language_info": {
   "codemirror_mode": {
    "name": "ipython",
    "version": 3
   },
   "file_extension": ".py",
   "mimetype": "text/x-python",
   "name": "python",
   "nbconvert_exporter": "python",
   "pygments_lexer": "ipython3",
   "version": "3.10.8"
  }
 },
 "nbformat": 4,
 "nbformat_minor": 5
}
